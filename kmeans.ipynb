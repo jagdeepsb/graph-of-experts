{
 "cells": [
  {
   "cell_type": "code",
   "execution_count": null,
   "metadata": {},
   "outputs": [],
   "source": [
    "%load_ext autoreload\n",
    "%autoreload 2"
   ]
  },
  {
   "cell_type": "code",
   "execution_count": null,
   "metadata": {},
   "outputs": [],
   "source": [
    "from src.data import RotatedMNISTDataset, CelebADataset\n",
    "from src.clustering.kmeans import KMeansImageClusterer, KMeansVQVAEClusterer\n",
    "from src.binary_tree import LatentVariableRouter"
   ]
  },
  {
   "cell_type": "code",
   "execution_count": null,
   "metadata": {},
   "outputs": [],
   "source": [
    "mnist_dataset = RotatedMNISTDataset()\n",
    "celeba_dataset = CelebADataset()"
   ]
  },
  {
   "cell_type": "code",
   "execution_count": null,
   "metadata": {},
   "outputs": [],
   "source": [
    "clusterer = KMeansVQVAEClusterer(n_clusters=8)\n",
    "clusterer.fit(celeba_dataset)\n",
    "\n",
    "cluster_centers = clusterer.cluster_centers()\n",
    "print(cluster_centers.shape)\n",
    "\n",
    "clusterer.debug(celeba_dataset)"
   ]
  },
  {
   "cell_type": "code",
   "execution_count": null,
   "metadata": {},
   "outputs": [],
   "source": [
    "clusterer = KMeansVQVAEClusterer(n_clusters=4)\n",
    "clusterer.fit(mnist_dataset)\n",
    "\n",
    "cluster_centers = clusterer.cluster_centers()\n",
    "print(cluster_centers.shape)\n",
    "\n",
    "clusterer.debug(mnist_dataset)"
   ]
  },
  {
   "cell_type": "code",
   "execution_count": null,
   "metadata": {},
   "outputs": [],
   "source": [
    "clusterer = KMeansImageClusterer(n_clusters=4)\n",
    "clusterer.fit(mnist_dataset)\n",
    "\n",
    "cluster_centers = clusterer.cluster_centers()\n",
    "print(cluster_centers.shape)\n",
    "\n",
    "clusterer.debug(mnist_dataset)"
   ]
  },
  {
   "cell_type": "code",
   "execution_count": null,
   "metadata": {},
   "outputs": [],
   "source": [
    "router = LatentVariableRouter(depth=3)\n",
    "router.compute_codebook(mnist_dataset)"
   ]
  },
  {
   "cell_type": "code",
   "execution_count": null,
   "metadata": {},
   "outputs": [],
   "source": [
    "from tqdm import tqdm\n",
    "def binary_tensor_to_str(tensor):\n",
    "    return ''.join([str(int(x)) for x in tensor])\n",
    "\n",
    "n_per_path = {}\n",
    "for i, el in tqdm(enumerate(mnist_dataset)):\n",
    "    img = el[0]\n",
    "    img = img.unsqueeze(0)\n",
    "    route = router.get_path(img)[0]\n",
    "    route_str = binary_tensor_to_str(route)\n",
    "    if route_str not in n_per_path:\n",
    "        n_per_path[route_str] = 0\n",
    "    n_per_path[route_str] += 1\n",
    "    \n",
    "    if i < 10:\n",
    "        print(route_str)\n",
    "\n",
    "print(\"====\")\n",
    "for k, v in n_per_path.items():\n",
    "    print(k, v)"
   ]
  }
 ],
 "metadata": {
  "kernelspec": {
   "display_name": "vqvae",
   "language": "python",
   "name": "python3"
  },
  "language_info": {
   "codemirror_mode": {
    "name": "ipython",
    "version": 3
   },
   "file_extension": ".py",
   "mimetype": "text/x-python",
   "name": "python",
   "nbconvert_exporter": "python",
   "pygments_lexer": "ipython3",
   "version": "3.10.15"
  }
 },
 "nbformat": 4,
 "nbformat_minor": 2
}
