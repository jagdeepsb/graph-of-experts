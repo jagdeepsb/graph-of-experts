{
 "cells": [
  {
   "cell_type": "code",
   "execution_count": 23,
   "metadata": {},
   "outputs": [
    {
     "name": "stdout",
     "output_type": "stream",
     "text": [
      "The autoreload extension is already loaded. To reload it, use:\n",
      "  %reload_ext autoreload\n"
     ]
    }
   ],
   "source": [
    "%load_ext autoreload\n",
    "%autoreload 2"
   ]
  },
  {
   "cell_type": "code",
   "execution_count": 24,
   "metadata": {},
   "outputs": [],
   "source": [
    "from src.data import RotatedMNISTDataset\n",
    "from src.clustering.kmeans import KMeansImageClusterer, KMeansVQVAEClusterer\n",
    "from src.binary_tree import LatentVariableRouter"
   ]
  },
  {
   "cell_type": "code",
   "execution_count": 25,
   "metadata": {},
   "outputs": [],
   "source": [
    "dataset = RotatedMNISTDataset()"
   ]
  },
  {
   "cell_type": "code",
   "execution_count": null,
   "metadata": {},
   "outputs": [],
   "source": [
    "clusterer = KMeansVQVAEClusterer(n_clusters=4)\n",
    "clusterer.fit(dataset)\n",
    "\n",
    "cluster_centers = clusterer.cluster_centers()\n",
    "print(cluster_centers.shape)\n",
    "\n",
    "clusterer.debug(dataset)"
   ]
  },
  {
   "cell_type": "code",
   "execution_count": null,
   "metadata": {},
   "outputs": [],
   "source": [
    "clusterer = KMeansImageClusterer(n_clusters=4)\n",
    "clusterer.fit(dataset)\n",
    "\n",
    "cluster_centers = clusterer.cluster_centers()\n",
    "print(cluster_centers.shape)\n",
    "\n",
    "clusterer.debug(dataset)"
   ]
  },
  {
   "cell_type": "code",
   "execution_count": 26,
   "metadata": {},
   "outputs": [
    {
     "name": "stdout",
     "output_type": "stream",
     "text": [
      "Update # 0 Recon Error: 0.3243519 Loss 0.33108714 Perplexity: 3.0772288\n",
      "Update # 50 Recon Error: 0.19836812 Loss 0.70138586 Perplexity: 4.862316\n",
      "Update # 100 Recon Error: 0.1086579 Loss 0.29757538 Perplexity: 2.3112757\n",
      "Update # 150 Recon Error: 0.07803525 Loss 0.16507828 Perplexity: 2.8881664\n",
      "Update # 200 Recon Error: 0.058238048 Loss 0.09977562 Perplexity: 4.6772327\n",
      "Update # 250 Recon Error: 0.04456847 Loss 0.04906407 Perplexity: 9.176113\n",
      "Update # 300 Recon Error: 0.036052596 Loss 0.037902232 Perplexity: 13.260263\n",
      "Update # 350 Recon Error: 0.029667845 Loss 0.031193135 Perplexity: 17.802605\n",
      "Update # 400 Recon Error: 0.025375461 Loss 0.02683097 Perplexity: 24.39442\n",
      "Update # 450 Recon Error: 0.022785688 Loss 0.023625595 Perplexity: 33.936966\n",
      "Update # 500 Recon Error: 0.020737493 Loss 0.021300808 Perplexity: 38.37831\n",
      "Update # 550 Recon Error: 0.01962056 Loss 0.020057775 Perplexity: 41.129208\n",
      "Update # 600 Recon Error: 0.018171646 Loss 0.018530715 Perplexity: 43.535854\n",
      "Update # 650 Recon Error: 0.01737659 Loss 0.017708616 Perplexity: 47.434086\n",
      "Update # 700 Recon Error: 0.016659267 Loss 0.016981058 Perplexity: 50.817417\n",
      "Update # 750 Recon Error: 0.015765239 Loss 0.016120654 Perplexity: 55.239742\n",
      "Update # 800 Recon Error: 0.015659759 Loss 0.016039306 Perplexity: 56.50807\n",
      "Update # 850 Recon Error: 0.014139226 Loss 0.014506833 Perplexity: 60.321358\n",
      "Update # 900 Recon Error: 0.013466998 Loss 0.013823995 Perplexity: 63.61523\n",
      "Update # 950 Recon Error: 0.013018365 Loss 0.013390737 Perplexity: 65.07861\n",
      "Update # 1000 Recon Error: 0.012462638 Loss 0.01284739 Perplexity: 66.32255\n",
      "Update # 1050 Recon Error: 0.01198311 Loss 0.012380766 Perplexity: 67.39505\n",
      "Update # 1100 Recon Error: 0.011290801 Loss 0.011745141 Perplexity: 68.75354\n",
      "Update # 1150 Recon Error: 0.010753043 Loss 0.011241683 Perplexity: 68.77513\n",
      "Update # 1200 Recon Error: 0.010189842 Loss 0.010689739 Perplexity: 69.5564\n",
      "Update # 1250 Recon Error: 0.009716694 Loss 0.010235152 Perplexity: 70.27034\n",
      "Update # 1300 Recon Error: 0.009413767 Loss 0.009947178 Perplexity: 71.3489\n",
      "Update # 1350 Recon Error: 0.009162713 Loss 0.009721798 Perplexity: 71.86929\n",
      "Update # 1400 Recon Error: 0.008782687 Loss 0.009354832 Perplexity: 72.25492\n",
      "Update # 1450 Recon Error: 0.008627427 Loss 0.009200949 Perplexity: 72.69624\n",
      "Update # 1500 Recon Error: 0.008371268 Loss 0.008953989 Perplexity: 73.30739\n",
      "Update # 1550 Recon Error: 0.008075615 Loss 0.008653293 Perplexity: 72.85332\n",
      "Update # 1600 Recon Error: 0.007864051 Loss 0.008444706 Perplexity: 72.2515\n",
      "Update # 1650 Recon Error: 0.007893987 Loss 0.008484736 Perplexity: 71.868034\n",
      "Update # 1700 Recon Error: 0.007677081 Loss 0.00827739 Perplexity: 71.31258\n",
      "Update # 1750 Recon Error: 0.0074987356 Loss 0.008104913 Perplexity: 71.25851\n",
      "Update # 1800 Recon Error: 0.007311825 Loss 0.007939537 Perplexity: 71.50623\n",
      "Update # 1850 Recon Error: 0.0071457173 Loss 0.007790574 Perplexity: 71.08189\n",
      "Update # 1900 Recon Error: 0.0070814514 Loss 0.00774772 Perplexity: 70.67468\n",
      "Update # 1950 Recon Error: 0.0068822755 Loss 0.007555958 Perplexity: 70.19033\n",
      "Update # 2000 Recon Error: 0.0067328895 Loss 0.0074271886 Perplexity: 69.67329\n",
      "Update # 2050 Recon Error: 0.00665561 Loss 0.0073617958 Perplexity: 69.75432\n",
      "Update # 2100 Recon Error: 0.0065442687 Loss 0.0072613414 Perplexity: 69.62333\n",
      "Update # 2150 Recon Error: 0.0064377333 Loss 0.0071624834 Perplexity: 68.933876\n",
      "Update # 2200 Recon Error: 0.0063245595 Loss 0.0070629697 Perplexity: 69.27939\n",
      "Update # 2250 Recon Error: 0.0062107416 Loss 0.0069474024 Perplexity: 68.65421\n",
      "Update # 2300 Recon Error: 0.006252313 Loss 0.00700865 Perplexity: 68.6382\n",
      "Update # 2350 Recon Error: 0.0061485674 Loss 0.0069129444 Perplexity: 68.356316\n",
      "Update # 2400 Recon Error: 0.006078892 Loss 0.0068498687 Perplexity: 68.15471\n",
      "Update # 2450 Recon Error: 0.0060378383 Loss 0.0068145245 Perplexity: 68.0498\n"
     ]
    },
    {
     "name": "stderr",
     "output_type": "stream",
     "text": [
      "100%|██████████| 1875/1875 [00:09<00:00, 204.36it/s]\n"
     ]
    },
    {
     "name": "stdout",
     "output_type": "stream",
     "text": [
      "Fitting kmeans model with 240000 samples\n"
     ]
    }
   ],
   "source": [
    "router = LatentVariableRouter(depth=3)\n",
    "router.compute_codebook(dataset)"
   ]
  },
  {
   "cell_type": "code",
   "execution_count": null,
   "metadata": {},
   "outputs": [
    {
     "ename": "ValueError",
     "evalue": "only one element tensors can be converted to Python scalars",
     "output_type": "error",
     "traceback": [
      "\u001b[0;31m---------------------------------------------------------------------------\u001b[0m",
      "\u001b[0;31mValueError\u001b[0m                                Traceback (most recent call last)",
      "Cell \u001b[0;32mIn[28], line 9\u001b[0m\n\u001b[1;32m      7\u001b[0m img \u001b[38;5;241m=\u001b[39m img\u001b[38;5;241m.\u001b[39munsqueeze(\u001b[38;5;241m0\u001b[39m)\n\u001b[1;32m      8\u001b[0m route \u001b[38;5;241m=\u001b[39m router\u001b[38;5;241m.\u001b[39mget_path(img)\n\u001b[0;32m----> 9\u001b[0m route_str \u001b[38;5;241m=\u001b[39m \u001b[43mbinary_tensor_to_str\u001b[49m\u001b[43m(\u001b[49m\u001b[43mroute\u001b[49m\u001b[43m)\u001b[49m\n\u001b[1;32m     10\u001b[0m \u001b[38;5;28;01mif\u001b[39;00m route_str \u001b[38;5;129;01mnot\u001b[39;00m \u001b[38;5;129;01min\u001b[39;00m n_per_path:\n\u001b[1;32m     11\u001b[0m     n_per_path[route_str] \u001b[38;5;241m=\u001b[39m \u001b[38;5;241m0\u001b[39m\n",
      "Cell \u001b[0;32mIn[28], line 2\u001b[0m, in \u001b[0;36mbinary_tensor_to_str\u001b[0;34m(tensor)\u001b[0m\n\u001b[1;32m      1\u001b[0m \u001b[38;5;28;01mdef\u001b[39;00m \u001b[38;5;21mbinary_tensor_to_str\u001b[39m(tensor):\n\u001b[0;32m----> 2\u001b[0m     \u001b[38;5;28;01mreturn\u001b[39;00m \u001b[38;5;124m'\u001b[39m\u001b[38;5;124m'\u001b[39m\u001b[38;5;241m.\u001b[39mjoin([\u001b[38;5;28mstr\u001b[39m(\u001b[38;5;28mint\u001b[39m(x)) \u001b[38;5;28;01mfor\u001b[39;00m x \u001b[38;5;129;01min\u001b[39;00m tensor])\n",
      "Cell \u001b[0;32mIn[28], line 2\u001b[0m, in \u001b[0;36m<listcomp>\u001b[0;34m(.0)\u001b[0m\n\u001b[1;32m      1\u001b[0m \u001b[38;5;28;01mdef\u001b[39;00m \u001b[38;5;21mbinary_tensor_to_str\u001b[39m(tensor):\n\u001b[0;32m----> 2\u001b[0m     \u001b[38;5;28;01mreturn\u001b[39;00m \u001b[38;5;124m'\u001b[39m\u001b[38;5;124m'\u001b[39m\u001b[38;5;241m.\u001b[39mjoin([\u001b[38;5;28mstr\u001b[39m(\u001b[38;5;28;43mint\u001b[39;49m\u001b[43m(\u001b[49m\u001b[43mx\u001b[49m\u001b[43m)\u001b[49m) \u001b[38;5;28;01mfor\u001b[39;00m x \u001b[38;5;129;01min\u001b[39;00m tensor])\n",
      "\u001b[0;31mValueError\u001b[0m: only one element tensors can be converted to Python scalars"
     ]
    }
   ],
   "source": [
    "def binary_tensor_to_str(tensor):\n",
    "    print(tensor)\n",
    "    return ''.join([str(int(x)) for x in tensor])\n",
    "\n",
    "n_per_path = {}\n",
    "for i, el in enumerate(dataset):\n",
    "    img = el[0]\n",
    "    img = img.unsqueeze(0)\n",
    "    route = router.get_path(img)\n",
    "    route_str = binary_tensor_to_str(route)\n",
    "    if route_str not in n_per_path:\n",
    "        n_per_path[route_str] = 0\n",
    "    n_per_path[route_str] += 1\n",
    "    \n",
    "    if i < 10:\n",
    "        print(route_str)\n",
    "\n",
    "print(\"====\")\n",
    "for k, v in n_per_path.items():\n",
    "    print(k, v)"
   ]
  },
  {
   "cell_type": "code",
   "execution_count": null,
   "metadata": {},
   "outputs": [],
   "source": []
  }
 ],
 "metadata": {
  "kernelspec": {
   "display_name": "vqvae",
   "language": "python",
   "name": "python3"
  },
  "language_info": {
   "codemirror_mode": {
    "name": "ipython",
    "version": 3
   },
   "file_extension": ".py",
   "mimetype": "text/x-python",
   "name": "python",
   "nbconvert_exporter": "python",
   "pygments_lexer": "ipython3",
   "version": "3.10.15"
  }
 },
 "nbformat": 4,
 "nbformat_minor": 2
}
