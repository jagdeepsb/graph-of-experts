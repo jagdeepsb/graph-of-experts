{
 "cells": [
  {
   "cell_type": "code",
   "execution_count": 1,
   "metadata": {},
   "outputs": [],
   "source": [
    "%load_ext autoreload\n",
    "%autoreload 2"
   ]
  },
  {
   "cell_type": "code",
   "execution_count": 11,
   "metadata": {},
   "outputs": [],
   "source": [
    "import os\n",
    "from typing import Tuple, List, Type\n",
    "from matplotlib import pyplot as plt\n",
    "\n",
    "import torch\n",
    "import torch.nn as nn\n",
    "from torch.nn.functional import cross_entropy\n",
    "from torch.utils.data import random_split, DataLoader\n",
    "from tqdm import tqdm\n",
    "from torch.functional import F\n",
    "\n",
    "from src.metrics import get_model_flops, get_num_parameters\n",
    "from src.reference import ReferenceModel\n",
    "from src.data import RotatedMNISTDataset, FixedSizeWrapper\n",
    "from src.binary_tree import MNISTOracleRouter, BinaryTreeGoE, LatentVariableRouter, RandomBinaryTreeRouter\n",
    "\n",
    "device = torch.device('cuda' if torch.cuda.is_available() else 'cpu')"
   ]
  },
  {
   "cell_type": "markdown",
   "metadata": {},
   "source": [
    "### Helper Functions"
   ]
  },
  {
   "cell_type": "code",
   "execution_count": 3,
   "metadata": {},
   "outputs": [],
   "source": [
    "def build_modules_sqA(param_factor: int) -> Tuple[Type[nn.Module], Type[nn.Module], Type[nn.Module]]:\n",
    "    \"\"\"\n",
    "    Architecture factory for Status Quo A Model for RotatedMNIST task which has the same number of *total* parameters as the Graph of Experts. Takes in hyperparameter param_factor, outputs list of module architectures which scale linearly in param_factor\n",
    "    \"\"\"\n",
    "    class LayerOne(nn.Module):\n",
    "        def __init__(self):\n",
    "            super().__init__()\n",
    "            self.conv = nn.Conv2d(1, param_factor, kernel_size=3, padding=1)\n",
    "    \n",
    "        def forward(self, x: torch.Tensor):\n",
    "            \"\"\"\n",
    "            Args:\n",
    "            - x: (batch_size, 1, 28, 28)\n",
    "            \"\"\"\n",
    "            return F.relu(F.max_pool2d(self.conv(x), 2))  # (batch_size, param_factor, 14, 14)\n",
    "    \n",
    "    class LayerTwo(nn.Module):\n",
    "        def __init__(self):\n",
    "            super().__init__()\n",
    "            self.conv = nn.Conv2d(param_factor, 2 * 2 * param_factor, kernel_size=3, padding=1)\n",
    "    \n",
    "        def forward(self, x: torch.Tensor):\n",
    "            \"\"\"\n",
    "            Args:\n",
    "            - x: (batch_size, 32, 14, 14)\n",
    "            \"\"\"\n",
    "            return F.relu(F.max_pool2d(self.conv(x), 2))  # (batch_size, 2 * 2 * param_factor, 7, 7)\n",
    "    \n",
    "    class LayerThree(nn.Module):\n",
    "        def __init__(self):\n",
    "            super().__init__()\n",
    "            self.fc1 = nn.Linear(2 * 2 * param_factor * 7 * 7, 2 * 4 * param_factor)\n",
    "            self.fc2 = nn.Linear(2 * 4 * param_factor, 10)\n",
    "    \n",
    "        def forward(self, x: torch.Tensor):\n",
    "            \"\"\"\n",
    "            Args:\n",
    "            - x: (batch_size, 128, 7, 7)\n",
    "            \"\"\"\n",
    "            x = x.view(-1, 2 * 2 * param_factor * 7 * 7)  # (batch_size, 2 * 2 * param_factor * 7 * 7)\n",
    "            x = F.relu(self.fc1(x))  # (batch_size, 2 * 4 * param_factor)\n",
    "            logits = self.fc2(x)  # (batch_size, 10)\n",
    "            return logits\n",
    "    return LayerOne, LayerTwo, LayerThree"
   ]
  },
  {
   "cell_type": "code",
   "execution_count": 4,
   "metadata": {},
   "outputs": [],
   "source": [
    "def build_modules(param_factor: int) -> Tuple[Type[nn.Module], Type[nn.Module], Type[nn.Module]]:\n",
    "    \"\"\"\n",
    "    Architecture factory for RotatedMNIST task. Takes in hyperparameter param_factor, outputs list of module architectures which scale linearly in param_factor\n",
    "    \"\"\"\n",
    "    class LayerOne(nn.Module):\n",
    "        def __init__(self):\n",
    "            super().__init__()\n",
    "            self.conv = nn.Conv2d(1, param_factor, kernel_size=3, padding=1)\n",
    "    \n",
    "        def forward(self, x: torch.Tensor):\n",
    "            \"\"\"\n",
    "            Args:\n",
    "            - x: (batch_size, 1, 28, 28)\n",
    "            \"\"\"\n",
    "            return F.relu(F.max_pool2d(self.conv(x), 2))  # (batch_size, param_factor, 14, 14)\n",
    "    \n",
    "    class LayerTwo(nn.Module):\n",
    "        def __init__(self):\n",
    "            super().__init__()\n",
    "            self.conv = nn.Conv2d(param_factor, 2 * param_factor, kernel_size=3, padding=1)\n",
    "    \n",
    "        def forward(self, x: torch.Tensor):\n",
    "            \"\"\"\n",
    "            Args:\n",
    "            - x: (batch_size, 32, 14, 14)\n",
    "            \"\"\"\n",
    "            return F.relu(F.max_pool2d(self.conv(x), 2))  # (batch_size, 2 * param_factor, 7, 7)\n",
    "    \n",
    "    class LayerThree(nn.Module):\n",
    "        def __init__(self):\n",
    "            super().__init__()\n",
    "            self.fc1 = nn.Linear(2 * param_factor * 7 * 7, 4 * param_factor)\n",
    "            self.fc2 = nn.Linear(4 * param_factor, 10)\n",
    "    \n",
    "        def forward(self, x: torch.Tensor):\n",
    "            \"\"\"\n",
    "            Args:\n",
    "            - x: (batch_size, 64, 7, 7)\n",
    "            \"\"\"\n",
    "            x = x.view(-1, 2 * param_factor * 7 * 7)  # (batch_size, 2 * param_factor * 7 * 7)\n",
    "            x = F.relu(self.fc1(x))  # (batch_size, 4 * param_factor)\n",
    "            logits = self.fc2(x)  # (batch_size, 10)\n",
    "            return logits\n",
    "    return LayerOne, LayerTwo, LayerThree"
   ]
  },
  {
   "cell_type": "code",
   "execution_count": 5,
   "metadata": {},
   "outputs": [],
   "source": [
    "\n",
    "def do_train_epoch(model, loader, optimizer, epoch) -> float:\n",
    "    model.train()\n",
    "    epoch_losses = []\n",
    "    for idx, (images, rotation_labels, digit_labels) in enumerate(loader):\n",
    "        images = images.to(device)\n",
    "        rotation_labels = rotation_labels.to(device)\n",
    "        digit_labels = digit_labels.to(device)\n",
    "\n",
    "        router_metadata = {\n",
    "            \"rotation_labels\": rotation_labels,\n",
    "        }\n",
    "\n",
    "        optimizer.zero_grad()\n",
    "        logits = model(images, router_metadata=router_metadata) # (bs, num_digit_classes)\n",
    "        loss = cross_entropy(logits, digit_labels)\n",
    "        loss.backward()\n",
    "        optimizer.step()\n",
    "        epoch_losses.append(loss.item())\n",
    "    epoch_loss = torch.mean(torch.Tensor(epoch_losses)).item()\n",
    "    # print(f'Train epoch {epoch} loss: {epoch_loss:.4f}')\n",
    "    return epoch_loss\n",
    "\n",
    "def do_val_epoch(model, loader, epoch) -> float:\n",
    "    model.eval()\n",
    "    epoch_losses = []\n",
    "    for idx, (images, rotation_labels, digit_labels) in tqdm(enumerate(loader)):\n",
    "        images = images.to(device)\n",
    "        rotation_labels = rotation_labels.to(device)\n",
    "        digit_labels = digit_labels.to(device)\n",
    "        \n",
    "        router_metadata = {\n",
    "            \"rotation_labels\": rotation_labels,\n",
    "        }\n",
    "\n",
    "        logits = model(images, router_metadata=router_metadata) # (bs, num_digit_classes)\n",
    "        loss = cross_entropy(logits, digit_labels)\n",
    "        epoch_losses.append(loss.item())\n",
    "    epoch_loss = torch.mean(torch.Tensor(epoch_losses)).item()\n",
    "    # print(f'Val epoch {epoch} loss: {epoch_loss:.4f}') \n",
    "    return epoch_loss\n",
    "\n",
    "def get_accuracy(model, loader):\n",
    "    model.eval()\n",
    "    total_samples = 0\n",
    "    total_correct = 0\n",
    "    for idx, (images, rotation_labels, digit_labels) in enumerate(loader):\n",
    "        images = images.to(device)\n",
    "        rotation_labels = rotation_labels.to(device)\n",
    "        digit_labels = digit_labels.to(device) # (bs,)\n",
    "        \n",
    "        router_metadata = {\n",
    "            \"rotation_labels\": rotation_labels,\n",
    "        }\n",
    "\n",
    "        logits = model(images, router_metadata=router_metadata) # (bs, num_digit_classes)\n",
    "        prediction = torch.argmax(logits, dim=1) # (bs,)\n",
    "        total_samples += prediction.shape[0]\n",
    "        total_correct += torch.sum(prediction == digit_labels).item()\n",
    "    accuracy = total_correct / total_samples * 100\n",
    "    return accuracy\n",
    "\n",
    "def get_rotated_mnist_loaders(downsample_factor: int = 20) -> Tuple[DataLoader, DataLoader, DataLoader]:\n",
    "    # Initialize dataset\n",
    "    dataset = RotatedMNISTDataset()\n",
    "    \n",
    "    # Assuming `dataset` is your PyTorch Dataset\n",
    "    dataset_size = len(dataset)\n",
    "    train_size = int(0.7 * dataset_size)\n",
    "    val_size = int(0.2 * dataset_size)\n",
    "    test_size = dataset_size - train_size - val_size\n",
    "    \n",
    "    train_dataset, val_dataset, test_dataset = random_split(\n",
    "        dataset, [train_size, val_size, test_size], \n",
    "        generator=torch.Generator().manual_seed(40)\n",
    "    )\n",
    "    \n",
    "    train_dataset = FixedSizeWrapper(dataset = train_dataset, size = train_size // downsample_factor)\n",
    "    val_dataset = FixedSizeWrapper(dataset = val_dataset, size = val_size // downsample_factor)\n",
    "    test_dataset = FixedSizeWrapper(dataset = test_dataset, size = test_size // downsample_factor)\n",
    "    \n",
    "    train_loader = DataLoader(train_dataset, batch_size=32, shuffle=False)\n",
    "    val_loader = DataLoader(val_dataset, batch_size=32, shuffle=False)\n",
    "    test_loader = DataLoader(test_dataset, batch_size=32, shuffle=False)\n",
    "\n",
    "    return train_dataset, val_dataset, test_dataset, train_loader, val_loader, test_loader\n",
    "\n",
    "def training_loop(model: nn.Module, train_loader: DataLoader, val_loader: DataLoader, test_loader: DataLoader, num_epochs: int = 100, lr: float = 0.005, epochs_per_accuracy: int = 5) -> List[float]:\n",
    "    optimizer = torch.optim.Adam(model.parameters(), lr=lr)\n",
    "    val_losses = []\n",
    "    accuracy = None\n",
    "    # make a pbar displaying the epoch number, training loss, and validation loss, and test accuracy\n",
    "    pbar = tqdm(range(num_epochs), desc='Epochs', total=num_epochs, leave=False, position=0)\n",
    "    \n",
    "    for epoch in pbar:\n",
    "        train_loss = do_train_epoch(model, train_loader, optimizer, epoch)\n",
    "        val_loss = do_val_epoch(model, val_loader, epoch)\n",
    "        val_losses.append(val_loss)\n",
    "        if epoch % epochs_per_accuracy == 0:\n",
    "            accuracy = get_accuracy(model, test_loader)\n",
    "    \n",
    "        pbar.set_postfix({'Train loss': train_loss, 'Val loss': val_loss, 'Test acc': accuracy})\n",
    "    return val_losses\n",
    "\n",
    "def save_model(model: nn.Module, save_path: str):\n",
    "    save_dir = os.path.dirname(save_path)\n",
    "    os.makedirs(save_dir, exist_ok=True)\n",
    "    torch.save(model.state_dict(), save_path)\n",
    "\n",
    "def load_model(model: nn.Module, save_path: str):\n",
    "    return model.load_state_dict(torch.load(save_path))"
   ]
  },
  {
   "cell_type": "markdown",
   "metadata": {},
   "source": [
    "# Experiment"
   ]
  },
  {
   "cell_type": "code",
   "execution_count": null,
   "metadata": {},
   "outputs": [
    {
     "name": "stdout",
     "output_type": "stream",
     "text": [
      "Training ref_sqB at param_factor=2, run=0\n"
     ]
    },
    {
     "name": "stderr",
     "output_type": "stream",
     "text": [
      "75it [00:00, 801.60it/s] 0/2 [00:00<?, ?it/s]\n",
      "75it [00:00, 842.03it/s] 1/2 [00:00<00:00,  1.78it/s, Train loss=1.96, Val loss=1.64, Test acc=40.8]\n",
      "                                                                                                    \r"
     ]
    },
    {
     "name": "stdout",
     "output_type": "stream",
     "text": [
      "Training ref_sqB at param_factor=2, run=1\n"
     ]
    },
    {
     "name": "stderr",
     "output_type": "stream",
     "text": [
      "75it [00:00, 847.67it/s] 0/2 [00:00<?, ?it/s]\n",
      "75it [00:00, 846.59it/s] 1/2 [00:00<00:00,  1.79it/s, Train loss=1.65, Val loss=1.1, Test acc=64.6]\n",
      "                                                                                                     \r"
     ]
    },
    {
     "name": "stdout",
     "output_type": "stream",
     "text": [
      "Training ref_sqB at param_factor=2, run=2\n"
     ]
    },
    {
     "name": "stderr",
     "output_type": "stream",
     "text": [
      "75it [00:00, 840.75it/s] 0/2 [00:00<?, ?it/s]\n",
      "75it [00:00, 835.79it/s] 1/2 [00:00<00:00,  1.83it/s, Train loss=2.06, Val loss=1.67, Test acc=40.8]\n",
      "                                                                                                    \r"
     ]
    },
    {
     "name": "stdout",
     "output_type": "stream",
     "text": [
      "Training goe_oracle at param_factor=2, run=0\n"
     ]
    },
    {
     "name": "stderr",
     "output_type": "stream",
     "text": [
      "75it [00:00, 610.05it/s] 0/2 [00:00<?, ?it/s]\n",
      "75it [00:00, 607.40it/s] 1/2 [00:00<00:00,  1.16it/s, Train loss=1.91, Val loss=1.6, Test acc=44]\n",
      "                                                                                                  \r"
     ]
    },
    {
     "name": "stdout",
     "output_type": "stream",
     "text": [
      "Training goe_oracle at param_factor=2, run=1\n"
     ]
    },
    {
     "name": "stderr",
     "output_type": "stream",
     "text": [
      "75it [00:00, 607.13it/s] 0/2 [00:00<?, ?it/s]\n",
      "75it [00:00, 602.33it/s] 1/2 [00:00<00:00,  1.15it/s, Train loss=2.19, Val loss=1.78, Test acc=35.6]\n",
      "                                                                                                    \r"
     ]
    },
    {
     "name": "stdout",
     "output_type": "stream",
     "text": [
      "Training goe_oracle at param_factor=2, run=2\n"
     ]
    },
    {
     "name": "stderr",
     "output_type": "stream",
     "text": [
      "75it [00:00, 590.55it/s] 0/2 [00:00<?, ?it/s]\n",
      "75it [00:00, 602.71it/s] 1/2 [00:00<00:00,  1.16it/s, Train loss=1.83, Val loss=1.46, Test acc=44.8]\n",
      "                                                                                                    \r"
     ]
    },
    {
     "name": "stdout",
     "output_type": "stream",
     "text": [
      "Training ref_sqB at param_factor=4, run=0\n"
     ]
    },
    {
     "name": "stderr",
     "output_type": "stream",
     "text": [
      "75it [00:00, 805.33it/s] 0/2 [00:00<?, ?it/s]\n",
      "75it [00:00, 836.58it/s] 1/2 [00:00<00:00,  1.72it/s, Train loss=1.51, Val loss=1.03, Test acc=65.7]\n",
      "                                                                                                      \r"
     ]
    },
    {
     "name": "stdout",
     "output_type": "stream",
     "text": [
      "Training ref_sqB at param_factor=4, run=1\n"
     ]
    },
    {
     "name": "stderr",
     "output_type": "stream",
     "text": [
      "75it [00:00, 845.67it/s] 0/2 [00:00<?, ?it/s]\n",
      "75it [00:00, 841.58it/s] 1/2 [00:00<00:00,  1.77it/s, Train loss=1.75, Val loss=1.32, Test acc=53.8]\n",
      "                                                                                                     \r"
     ]
    },
    {
     "name": "stdout",
     "output_type": "stream",
     "text": [
      "Training ref_sqB at param_factor=4, run=2\n"
     ]
    },
    {
     "name": "stderr",
     "output_type": "stream",
     "text": [
      "75it [00:00, 844.52it/s] 0/2 [00:00<?, ?it/s]\n",
      "75it [00:00, 837.44it/s] 1/2 [00:00<00:00,  1.83it/s, Train loss=1.78, Val loss=1.29, Test acc=55.3]\n",
      "                                                                                                    \r"
     ]
    },
    {
     "name": "stdout",
     "output_type": "stream",
     "text": [
      "Training goe_oracle at param_factor=4, run=0\n"
     ]
    },
    {
     "name": "stderr",
     "output_type": "stream",
     "text": [
      "75it [00:00, 573.35it/s] 0/2 [00:00<?, ?it/s]\n",
      "75it [00:00, 605.05it/s] 1/2 [00:00<00:00,  1.09it/s, Train loss=1.44, Val loss=0.783, Test acc=76.3]\n",
      "                                                                                                      \r"
     ]
    },
    {
     "name": "stdout",
     "output_type": "stream",
     "text": [
      "Training goe_oracle at param_factor=4, run=1\n"
     ]
    },
    {
     "name": "stderr",
     "output_type": "stream",
     "text": [
      "75it [00:00, 604.48it/s] 0/2 [00:00<?, ?it/s]\n",
      "75it [00:00, 612.83it/s] 1/2 [00:00<00:00,  1.13it/s, Train loss=1.25, Val loss=0.612, Test acc=81.6]\n",
      "                                                                                                      \r"
     ]
    },
    {
     "name": "stdout",
     "output_type": "stream",
     "text": [
      "Training goe_oracle at param_factor=4, run=2\n"
     ]
    },
    {
     "name": "stderr",
     "output_type": "stream",
     "text": [
      "75it [00:00, 574.83it/s] 0/2 [00:00<?, ?it/s]\n",
      "75it [00:00, 606.39it/s] 1/2 [00:00<00:00,  1.14it/s, Train loss=1.25, Val loss=0.672, Test acc=75.2]\n",
      "                                                                                                      \r"
     ]
    },
    {
     "name": "stdout",
     "output_type": "stream",
     "text": [
      "Training ref_sqB at param_factor=8, run=0\n"
     ]
    },
    {
     "name": "stderr",
     "output_type": "stream",
     "text": [
      "75it [00:00, 803.33it/s] 0/2 [00:00<?, ?it/s]\n",
      "75it [00:00, 832.78it/s] 1/2 [00:00<00:00,  1.80it/s, Train loss=1.23, Val loss=0.537, Test acc=84]\n",
      "                                                                                                    \r"
     ]
    },
    {
     "name": "stdout",
     "output_type": "stream",
     "text": [
      "Training ref_sqB at param_factor=8, run=1\n"
     ]
    },
    {
     "name": "stderr",
     "output_type": "stream",
     "text": [
      "75it [00:00, 811.70it/s] 0/2 [00:00<?, ?it/s]\n",
      "75it [00:00, 827.12it/s] 1/2 [00:00<00:00,  1.72it/s, Train loss=1.31, Val loss=0.665, Test acc=80.1]\n",
      "                                                                                                      \r"
     ]
    },
    {
     "name": "stdout",
     "output_type": "stream",
     "text": [
      "Training ref_sqB at param_factor=8, run=2\n"
     ]
    },
    {
     "name": "stderr",
     "output_type": "stream",
     "text": [
      "75it [00:00, 828.50it/s] 0/2 [00:00<?, ?it/s]\n",
      "75it [00:00, 825.07it/s] 1/2 [00:00<00:00,  1.80it/s, Train loss=1.17, Val loss=0.614, Test acc=78.2]\n",
      "                                                                                                      \r"
     ]
    },
    {
     "name": "stdout",
     "output_type": "stream",
     "text": [
      "Training goe_oracle at param_factor=8, run=0\n"
     ]
    },
    {
     "name": "stderr",
     "output_type": "stream",
     "text": [
      "75it [00:00, 609.02it/s] 0/2 [00:00<?, ?it/s]\n",
      "75it [00:00, 592.22it/s] 1/2 [00:00<00:00,  1.11it/s, Train loss=0.966, Val loss=0.349, Test acc=89.2]\n",
      "                                                                                                      \r"
     ]
    },
    {
     "name": "stdout",
     "output_type": "stream",
     "text": [
      "Training goe_oracle at param_factor=8, run=1\n"
     ]
    },
    {
     "name": "stderr",
     "output_type": "stream",
     "text": [
      "75it [00:00, 608.92it/s] 0/2 [00:00<?, ?it/s]\n",
      "75it [00:00, 592.90it/s] 1/2 [00:00<00:00,  1.15it/s, Train loss=1.09, Val loss=0.457, Test acc=86.1]\n",
      "                                                                                                      \r"
     ]
    },
    {
     "name": "stdout",
     "output_type": "stream",
     "text": [
      "Training goe_oracle at param_factor=8, run=2\n"
     ]
    },
    {
     "name": "stderr",
     "output_type": "stream",
     "text": [
      "75it [00:00, 606.51it/s] 0/2 [00:00<?, ?it/s]\n",
      "75it [00:00, 583.71it/s] 1/2 [00:00<00:00,  1.14it/s, Train loss=1.18, Val loss=0.636, Test acc=76.8]\n",
      "                                                                                                     \r"
     ]
    },
    {
     "name": "stdout",
     "output_type": "stream",
     "text": [
      "Training ref_sqB at param_factor=24, run=0\n"
     ]
    },
    {
     "name": "stderr",
     "output_type": "stream",
     "text": [
      "75it [00:00, 823.65it/s] 0/2 [00:00<?, ?it/s]\n",
      "75it [00:00, 818.73it/s] 1/2 [00:00<00:00,  1.72it/s, Train loss=2.3, Val loss=2.3, Test acc=12.3]\n",
      "                                                                                                  \r"
     ]
    },
    {
     "name": "stdout",
     "output_type": "stream",
     "text": [
      "Training ref_sqB at param_factor=24, run=1\n"
     ]
    },
    {
     "name": "stderr",
     "output_type": "stream",
     "text": [
      "75it [00:00, 824.22it/s] 0/2 [00:00<?, ?it/s]\n",
      "75it [00:00, 830.41it/s] 1/2 [00:00<00:00,  1.69it/s, Train loss=1.43, Val loss=0.926, Test acc=69.8]\n",
      "                                                                                                      \r"
     ]
    },
    {
     "name": "stdout",
     "output_type": "stream",
     "text": [
      "Training ref_sqB at param_factor=24, run=2\n"
     ]
    },
    {
     "name": "stderr",
     "output_type": "stream",
     "text": [
      "75it [00:00, 825.78it/s] 0/2 [00:00<?, ?it/s]\n",
      "75it [00:00, 821.38it/s] 1/2 [00:00<00:00,  1.70it/s, Train loss=1.15, Val loss=0.541, Test acc=83.1]\n",
      "                                                                                                      \r"
     ]
    },
    {
     "name": "stdout",
     "output_type": "stream",
     "text": [
      "Training goe_oracle at param_factor=24, run=0\n"
     ]
    },
    {
     "name": "stderr",
     "output_type": "stream",
     "text": [
      "75it [00:00, 598.89it/s] 0/2 [00:00<?, ?it/s]\n",
      "75it [00:00, 593.79it/s] 1/2 [00:00<00:00,  1.08it/s, Train loss=0.854, Val loss=0.389, Test acc=88.9]\n",
      "                                                                                                      \r"
     ]
    },
    {
     "name": "stdout",
     "output_type": "stream",
     "text": [
      "Training goe_oracle at param_factor=24, run=1\n"
     ]
    },
    {
     "name": "stderr",
     "output_type": "stream",
     "text": [
      "75it [00:00, 601.98it/s] 0/2 [00:00<?, ?it/s]\n",
      "75it [00:00, 595.37it/s] 1/2 [00:00<00:00,  1.12it/s, Train loss=0.79, Val loss=0.361, Test acc=89]\n",
      "                                                                                                    \r"
     ]
    },
    {
     "name": "stdout",
     "output_type": "stream",
     "text": [
      "Training goe_oracle at param_factor=24, run=2\n"
     ]
    },
    {
     "name": "stderr",
     "output_type": "stream",
     "text": [
      "75it [00:00, 604.31it/s] 0/2 [00:00<?, ?it/s]\n",
      "75it [00:00, 604.16it/s] 1/2 [00:00<00:00,  1.14it/s, Train loss=0.964, Val loss=0.408, Test acc=87.3]\n",
      "                                                                                                      \r"
     ]
    }
   ],
   "source": [
    "# Build loaders\n",
    "(\n",
    "    train_dataset, val_dataset, test_dataset,\n",
    "    train_loader, val_loader, test_loader\n",
    ") = get_rotated_mnist_loaders()\n",
    "\n",
    "# MODEL MATRIX TO TRAIN\n",
    "# param_factors = [2, 4, 8, 12, 16, 24]\n",
    "param_factors = [2, 4, 8, 24]\n",
    "model_names = ['ref_sqA', 'ref_sqB', 'goe_oracle', 'goe_random', 'goe_latent']\n",
    "# model_names = ['ref_sqB', 'goe_oracle']\n",
    "# model_names = ['goe_latent']\n",
    "num_runs_per_model = 3\n",
    "\n",
    "num_epochs = 2\n",
    "results = {}\n",
    "\n",
    "# routers\n",
    "oracle_router = MNISTOracleRouter()\n",
    "\n",
    "random_router = RandomBinaryTreeRouter(depth=3)\n",
    "random_router.compute_codebook(train_dataset)\n",
    "\n",
    "# latent_router = LatentVariableRouter(depth=3)\n",
    "# latent_router.compute_codebook(train_dataset)\n",
    "\n",
    "# init results\n",
    "for param_factor in param_factors:\n",
    "    for model_name in model_names:\n",
    "        results[(param_factor, model_name)] = []\n",
    "\n",
    "# train models\n",
    "for param_factor in param_factors:\n",
    "    for model_name in model_names:\n",
    "        for run in range(num_runs_per_model):\n",
    "            # Build architectures\n",
    "            modules_by_depth = build_modules(param_factor)\n",
    "            modules_by_depth_sqA = build_modules_sqA(param_factor)\n",
    "            \n",
    "            if model_name == 'ref_sqA':\n",
    "                model = ReferenceModel(modules_by_depth=modules_by_depth_sqA).to(device)\n",
    "            elif model_name == 'ref_sqB':\n",
    "                model = ReferenceModel(modules_by_depth=modules_by_depth).to(device)\n",
    "            elif model_name == 'goe_oracle':\n",
    "                model = BinaryTreeGoE(modules_by_depth = modules_by_depth, router=oracle_router).to(device)\n",
    "            elif model_name == 'goe_random':\n",
    "                model = BinaryTreeGoE(modules_by_depth = modules_by_depth, router=random_router).to(device)\n",
    "            elif model_name == 'goe_latent':\n",
    "                model = BinaryTreeGoE(modules_by_depth = modules_by_depth, router=latent_router).to(device)\n",
    "            else:\n",
    "                raise ValueError(f'Unknown model name: {model_name}')\n",
    "            \n",
    "            print(f'Training {model_name} at param_factor={param_factor}, run={run}')\n",
    "            \n",
    "            _ = training_loop(\n",
    "                model=model, \n",
    "                train_loader=train_loader, \n",
    "                val_loader=val_loader, \n",
    "                test_loader=test_loader, \n",
    "                num_epochs=num_epochs, \n",
    "                lr = 0.005, \n",
    "                epochs_per_accuracy=5\n",
    "            )\n",
    "            results[(param_factor, model_name)].append(model)\n",
    "            reference_save_path = f'checkpoints/rotated_mnist_oracle/param_{param_factor}_{model_name}_{run}.pt'\n",
    "            save_model(model, reference_save_path)    "
   ]
  },
  {
   "cell_type": "code",
   "execution_count": 24,
   "metadata": {},
   "outputs": [
    {
     "name": "stderr",
     "output_type": "stream",
     "text": [
      "  0%|          | 0/8 [00:00<?, ?it/s]"
     ]
    },
    {
     "name": "stderr",
     "output_type": "stream",
     "text": [
      " 12%|█▎        | 1/8 [00:00<00:01,  6.74it/s]/home/jagdeep/miniconda3/envs/vqvae/lib/python3.10/site-packages/torchprofile/profile.py:22: UserWarning: No handlers found: \"aten::where\". Skipped.\n",
      "  warnings.warn('No handlers found: \"{}\". Skipped.'.format(\n",
      "/home/jagdeep/miniconda3/envs/vqvae/lib/python3.10/site-packages/torchprofile/profile.py:22: UserWarning: No handlers found: \"aten::empty\". Skipped.\n",
      "  warnings.warn('No handlers found: \"{}\". Skipped.'.format(\n",
      "/home/jagdeep/miniconda3/envs/vqvae/lib/python3.10/site-packages/torchprofile/profile.py:22: UserWarning: No handlers found: \"aten::index_put_\". Skipped.\n",
      "  warnings.warn('No handlers found: \"{}\". Skipped.'.format(\n",
      " 38%|███▊      | 3/8 [00:00<00:00,  6.10it/s]/home/jagdeep/miniconda3/envs/vqvae/lib/python3.10/site-packages/torchprofile/profile.py:22: UserWarning: No handlers found: \"aten::where\". Skipped.\n",
      "  warnings.warn('No handlers found: \"{}\". Skipped.'.format(\n",
      "/home/jagdeep/miniconda3/envs/vqvae/lib/python3.10/site-packages/torchprofile/profile.py:22: UserWarning: No handlers found: \"aten::empty\". Skipped.\n",
      "  warnings.warn('No handlers found: \"{}\". Skipped.'.format(\n",
      "/home/jagdeep/miniconda3/envs/vqvae/lib/python3.10/site-packages/torchprofile/profile.py:22: UserWarning: No handlers found: \"aten::index_put_\". Skipped.\n",
      "  warnings.warn('No handlers found: \"{}\". Skipped.'.format(\n",
      " 62%|██████▎   | 5/8 [00:00<00:00,  6.01it/s]/home/jagdeep/miniconda3/envs/vqvae/lib/python3.10/site-packages/torchprofile/profile.py:22: UserWarning: No handlers found: \"aten::where\". Skipped.\n",
      "  warnings.warn('No handlers found: \"{}\". Skipped.'.format(\n",
      "/home/jagdeep/miniconda3/envs/vqvae/lib/python3.10/site-packages/torchprofile/profile.py:22: UserWarning: No handlers found: \"aten::empty\". Skipped.\n",
      "  warnings.warn('No handlers found: \"{}\". Skipped.'.format(\n",
      "/home/jagdeep/miniconda3/envs/vqvae/lib/python3.10/site-packages/torchprofile/profile.py:22: UserWarning: No handlers found: \"aten::index_put_\". Skipped.\n",
      "  warnings.warn('No handlers found: \"{}\". Skipped.'.format(\n",
      " 88%|████████▊ | 7/8 [00:01<00:00,  5.90it/s]/home/jagdeep/miniconda3/envs/vqvae/lib/python3.10/site-packages/torchprofile/profile.py:22: UserWarning: No handlers found: \"aten::where\". Skipped.\n",
      "  warnings.warn('No handlers found: \"{}\". Skipped.'.format(\n",
      "/home/jagdeep/miniconda3/envs/vqvae/lib/python3.10/site-packages/torchprofile/profile.py:22: UserWarning: No handlers found: \"aten::empty\". Skipped.\n",
      "  warnings.warn('No handlers found: \"{}\". Skipped.'.format(\n",
      "/home/jagdeep/miniconda3/envs/vqvae/lib/python3.10/site-packages/torchprofile/profile.py:22: UserWarning: No handlers found: \"aten::index_put_\". Skipped.\n",
      "  warnings.warn('No handlers found: \"{}\". Skipped.'.format(\n",
      "100%|██████████| 8/8 [00:01<00:00,  5.65it/s]\n"
     ]
    }
   ],
   "source": [
    "# For each experiment, compute accuracies, and flops\n",
    "accuracies = {}\n",
    "mean_accuracies = {}\n",
    "std_accuracies = {}\n",
    "flops = {}\n",
    "num_params = {}\n",
    "\n",
    "# example input\n",
    "image, rotation_label, digit_label = train_dataset[0]\n",
    "image = image.unsqueeze(0).to(device)\n",
    "rotation_label = torch.tensor(rotation_label).unsqueeze(0).to(device)\n",
    "router_metadata = {\n",
    "    \"rotation_labels\": rotation_label,\n",
    "}\n",
    "\n",
    "for k, models in tqdm(results.items()):\n",
    "    n_params, model_name = k\n",
    "    accuracies[k] = [get_accuracy(model, test_loader) for model in models]\n",
    "    mean_accuracies[k] = torch.mean(torch.Tensor(accuracies[k])).item()\n",
    "    std_accuracies[k] = torch.std(torch.Tensor(accuracies[k])).item()\n",
    "    \n",
    "    flops[k] = get_model_flops(models[0], (image, router_metadata))\n",
    "    num_params[k] = get_num_parameters(models[0])"
   ]
  },
  {
   "cell_type": "code",
   "execution_count": 25,
   "metadata": {},
   "outputs": [],
   "source": [
    "# compile results by model name\n",
    "compiled_results = {}\n",
    "\n",
    "for (param_factor, model_name) in results:\n",
    "    if model_name not in compiled_results:\n",
    "        compiled_results[model_name] = {\n",
    "            'mean_accuracies': [],\n",
    "            'std_accuracies': [],\n",
    "            'flops': [],\n",
    "            'num_params': [],\n",
    "        }\n",
    "    compiled_results[model_name]['mean_accuracies'].append(mean_accuracies[(param_factor, model_name)])\n",
    "    compiled_results[model_name]['std_accuracies'].append(std_accuracies[(param_factor, model_name)])\n",
    "    compiled_results[model_name]['flops'].append(flops[(param_factor, model_name)])\n",
    "    compiled_results[model_name]['num_params'].append(num_params[(param_factor, model_name)])"
   ]
  },
  {
   "cell_type": "code",
   "execution_count": null,
   "metadata": {},
   "outputs": [
    {
     "name": "stderr",
     "output_type": "stream",
     "text": [
      "/tmp/ipykernel_2131374/3565122100.py:3: FutureWarning: You are using `torch.load` with `weights_only=False` (the current default value), which uses the default pickle module implicitly. It is possible to construct malicious pickle data which will execute arbitrary code during unpickling (See https://github.com/pytorch/pytorch/blob/main/SECURITY.md#untrusted-models for more details). In a future release, the default value for `weights_only` will be flipped to `True`. This limits the functions that could be executed during unpickling. Arbitrary objects will no longer be allowed to be loaded via this mode unless they are explicitly allowlisted by the user via `torch.serialization.add_safe_globals`. We recommend you start setting `weights_only=True` for any use case where you don't have full control of the loaded file. Please open an issue on GitHub for any issues related to this experimental feature.\n",
      "  compiled_results = torch.load('cr_baselines.pt')\n"
     ]
    }
   ],
   "source": [
    "# save results to disk / load from disk\n",
    "torch.save(compiled_results, 'cr_baselines.pt')\n",
    "compiled_results = torch.load('cr_baselines.pt')\n",
    "\n",
    "# can load and add more results\n",
    "load_and_add = []\n",
    "for file in load_and_add:\n",
    "    compiled_results.update(torch.load(file))"
   ]
  },
  {
   "cell_type": "code",
   "execution_count": null,
   "metadata": {},
   "outputs": [
    {
     "name": "stdout",
     "output_type": "stream",
     "text": [
      "[1762, 6794, 26698, 237514]\n",
      "[57.13888931274414, 69.52777862548828, 86.77777099609375, 57.861114501953125]\n",
      "[6836, 26464, 104216, 928504]\n",
      "[48.80555725097656, 85.97222137451172, 89.8055648803711, 91.5]\n"
     ]
    },
    {
     "data": {
      "image/png": "[encoded data removed]",
      "text/plain": [
       "<Figure size 640x480 with 1 Axes>"
      ]
     },
     "metadata": {},
     "output_type": "display_data"
    }
   ],
   "source": [
    "model_name_to_lablel = {\n",
    "    'ref_sqA': 'Ref SqA',\n",
    "    'ref_sqB': 'Ref SqB',\n",
    "    'goe_oracle': 'GoE Oracle',\n",
    "    'goe_random': 'GoE Random',\n",
    "    'goe_latent': 'GoE Latent'\n",
    "}\n",
    "# dont_plot = ['ref_sqA']\n",
    "dont_plot = []\n",
    "\n",
    "for model_name, statistics in compiled_results.items():\n",
    "    if model_name in dont_plot:\n",
    "        continue\n",
    "    mean_accuracies = statistics['mean_accuracies']\n",
    "    std_accuracies = statistics['std_accuracies']\n",
    "    flops = statistics['flops']\n",
    "    num_params = statistics['num_params']\n",
    "    plt.errorbar(flops, mean_accuracies, yerr=std_accuracies, label=model_name_to_lablel[model_name])\n",
    "plt.xlabel('FLOPS')\n",
    "plt.ylabel('Accuracy')\n",
    "plt.title('Rotated MNIST')\n",
    "plt.legend()\n",
    "plt.savefig('rotated_mnist_oracle.png')"
   ]
  }
 ],
 "metadata": {
  "kernelspec": {
   "display_name": "vqvae",
   "language": "python",
   "name": "python3"
  },
  "language_info": {
   "codemirror_mode": {
    "name": "ipython",
    "version": 3
   },
   "file_extension": ".py",
   "mimetype": "text/x-python",
   "name": "python",
   "nbconvert_exporter": "python",
   "pygments_lexer": "ipython3",
   "version": "3.10.15"
  }
 },
 "nbformat": 4,
 "nbformat_minor": 2
}
