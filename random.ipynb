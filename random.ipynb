{
 "cells": [
  {
   "cell_type": "code",
   "execution_count": 20,
   "metadata": {},
   "outputs": [
    {
     "name": "stdout",
     "output_type": "stream",
     "text": [
      "The autoreload extension is already loaded. To reload it, use:\n",
      "  %reload_ext autoreload\n"
     ]
    }
   ],
   "source": [
    "%load_ext autoreload\n",
    "%autoreload 2"
   ]
  },
  {
   "cell_type": "code",
   "execution_count": 21,
   "metadata": {},
   "outputs": [],
   "source": [
    "from src.data import RotatedMNISTDataset\n",
    "from src.clustering.kmeans import KMeansImageClusterer\n",
    "from src.binary_tree import RandomBinaryTreeRouter"
   ]
  },
  {
   "cell_type": "code",
   "execution_count": 22,
   "metadata": {},
   "outputs": [],
   "source": [
    "dataset = RotatedMNISTDataset()"
   ]
  },
  {
   "cell_type": "code",
   "execution_count": 23,
   "metadata": {},
   "outputs": [],
   "source": [
    "router = RandomBinaryTreeRouter(depth=3)\n",
    "router.compute_codebook(dataset)"
   ]
  },
  {
   "cell_type": "code",
   "execution_count": 24,
   "metadata": {},
   "outputs": [
    {
     "name": "stdout",
     "output_type": "stream",
     "text": [
      "01\n",
      "01\n",
      "11\n",
      "00\n",
      "10\n",
      "10\n",
      "10\n",
      "10\n",
      "10\n",
      "10\n",
      "====\n",
      "01 2\n",
      "11 1\n",
      "00 1\n",
      "10 6\n"
     ]
    }
   ],
   "source": [
    "def binary_tensor_to_str(tensor):\n",
    "    return ''.join([str(int(x)) for x in tensor])\n",
    "\n",
    "n_per_path = {}\n",
    "for i, el in enumerate(dataset):\n",
    "    img = el[0]\n",
    "    if i < 10:\n",
    "        route = router.get_path(img)\n",
    "        route_str = binary_tensor_to_str(route)\n",
    "        print(route_str)\n",
    "        if route_str not in n_per_path:\n",
    "            n_per_path[route_str] = 0\n",
    "        n_per_path[route_str] += 1\n",
    "\n",
    "print(\"====\")\n",
    "for k, v in n_per_path.items():\n",
    "    print(k, v)"
   ]
  }
 ],
 "metadata": {
  "kernelspec": {
   "display_name": "robo",
   "language": "python",
   "name": "python3"
  },
  "language_info": {
   "codemirror_mode": {
    "name": "ipython",
    "version": 3
   },
   "file_extension": ".py",
   "mimetype": "text/x-python",
   "name": "python",
   "nbconvert_exporter": "python",
   "pygments_lexer": "ipython3",
   "version": "3.8.18"
  }
 },
 "nbformat": 4,
 "nbformat_minor": 2
}
