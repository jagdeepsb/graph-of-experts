{
 "cells": [
  {
   "cell_type": "code",
   "execution_count": null,
   "id": "1052cc31-8803-4a83-9fbb-035ddf639685",
   "metadata": {},
   "outputs": [],
   "source": [
    "%load_ext autoreload\n",
    "%autoreload 2"
   ]
  },
  {
   "cell_type": "code",
   "execution_count": null,
   "id": "1a898e1a-55a9-4029-b94a-f1f9e7728c2b",
   "metadata": {},
   "outputs": [],
   "source": [
    "import torch\n",
    "from torch.utils.data import random_split\n",
    "\n",
    "from src.data import RotatedMNISTDataset, CelebADataset\n",
    "\n",
    "device = torch.device('cuda' if torch.cuda.is_available() else 'cpu')"
   ]
  },
  {
   "cell_type": "code",
   "execution_count": null,
   "id": "df0b406b",
   "metadata": {},
   "outputs": [],
   "source": [
    "celeba_dataset = CelebADataset()"
   ]
  },
  {
   "cell_type": "code",
   "execution_count": null,
   "id": "af617e3e-3040-48a6-9359-c6ed4e5faa71",
   "metadata": {},
   "outputs": [],
   "source": [
    "# Create dataset and dataloader\n",
    "dataset = RotatedMNISTDataset()\n",
    "\n",
    "# Assuming `dataset` is your PyTorch Dataset\n",
    "dataset_size = len(dataset)\n",
    "train_size = int(0.7 * dataset_size)\n",
    "val_size = int(0.2 * dataset_size)\n",
    "test_size = dataset_size - train_size - val_size\n",
    "\n",
    "train_dataset, val_dataset, test_dataset = random_split(\n",
    "    dataset, [train_size, val_size, test_size], \n",
    "    generator=torch.Generator().manual_seed(40)\n",
    ")"
   ]
  },
  {
   "cell_type": "code",
   "execution_count": null,
   "id": "8a6f42d8-b21c-4ac7-99e7-6b4a60ae452d",
   "metadata": {},
   "outputs": [],
   "source": [
    "from matplotlib import pyplot as plt\n",
    "\n",
    "# Sample images from each set\n",
    "num_samples_per_set = 10\n",
    "_, axes = plt.subplots(3, 10, figsize=(10 * 10, 10 * 3))\n",
    "axes = axes.reshape((3,10))\n",
    "\n",
    "for curr_idx, curr_dataset in enumerate((train_dataset, val_dataset, test_dataset)):\n",
    "    for sample_idx in range(num_samples_per_set):\n",
    "        img, rotation_label, digit_label = curr_dataset[sample_idx]\n",
    "        ax = axes[curr_idx, sample_idx]\n",
    "        img = img.squeeze().numpy()\n",
    "        ax.imshow(img, cmap='gray')\n",
    "        ax.set_title(f'Rotation: {rotation_label * 90}°, Digit: {digit_label}')\n",
    "        ax.axis('off')\n",
    "\n",
    "# Adjust layout and display\n",
    "# plt.tight_layout()\n",
    "plt.show()"
   ]
  }
 ],
 "metadata": {
  "kernelspec": {
   "display_name": "vqvae",
   "language": "python",
   "name": "python3"
  },
  "language_info": {
   "codemirror_mode": {
    "name": "ipython",
    "version": 3
   },
   "file_extension": ".py",
   "mimetype": "text/x-python",
   "name": "python",
   "nbconvert_exporter": "python",
   "pygments_lexer": "ipython3",
   "version": "3.10.15"
  }
 },
 "nbformat": 4,
 "nbformat_minor": 5
}
