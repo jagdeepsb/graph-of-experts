{
 "cells": [
  {
   "cell_type": "markdown",
   "id": "a54f26da-24d9-4b49-971f-144a1a5accbe",
   "metadata": {},
   "source": [
    "# Experiment 1: Oracle vs Reference"
   ]
  },
  {
   "cell_type": "code",
   "execution_count": null,
   "id": "c3d6309b-f9a3-4221-a5a7-0d44cb59ab89",
   "metadata": {},
   "outputs": [],
   "source": [
    "%load_ext autoreload\n",
    "%autoreload 2"
   ]
  },
  {
   "cell_type": "code",
   "execution_count": null,
   "id": "1c895433-2741-47a4-b08a-3d58e2e5c7bb",
   "metadata": {},
   "outputs": [],
   "source": [
    "import torch\n",
    "import torch.nn as nn\n",
    "from torch.nn.functional import cross_entropy\n",
    "from torch.utils.data import random_split\n",
    "from tqdm import tqdm\n",
    "\n",
    "from src.reference import RotatedMNISTClassifier\n",
    "from src.data import RotatedMNISTDataset\n",
    "\n",
    "device = torch.device('cuda' if torch.cuda.is_available() else 'cpu')"
   ]
  },
  {
   "cell_type": "code",
   "execution_count": null,
   "id": "f1861593-8e07-4b0e-a403-887f5258712a",
   "metadata": {},
   "outputs": [],
   "source": [
    "# Initialize model\n",
    "reference_model = RotatedMNISTClassifier().to(device)\n",
    "\n",
    "# Initialize dataset\n",
    "dataset = RotatedMNISTDataset()\n",
    "\n",
    "# Assuming `dataset` is your PyTorch Dataset\n",
    "dataset_size = len(dataset)\n",
    "train_size = int(0.7 * dataset_size)\n",
    "val_size = int(0.2 * dataset_size)\n",
    "test_size = dataset_size - train_size - val_size\n",
    "\n",
    "train_dataset, val_dataset, test_dataset = random_split(\n",
    "    dataset, [train_size, val_size, test_size], \n",
    "    generator=torch.Generator().manual_seed(40)\n",
    ")\n",
    "\n",
    "train_loader = torch.utils.data.DataLoader(train_dataset, batch_size=32, shuffle=True)\n",
    "val_loader = torch.utils.data.DataLoader(val_dataset, batch_size=32, shuffle=False)\n",
    "test_loader = torch.utils.data.DataLoader(test_dataset, batch_size=32, shuffle=False)"
   ]
  },
  {
   "cell_type": "code",
   "execution_count": null,
   "id": "050e550d-fa16-4452-a75d-359cb150ffbd",
   "metadata": {},
   "outputs": [],
   "source": [
    "def do_train_epoch(model, loader, optimizer, epoch):\n",
    "    model.train()\n",
    "    epoch_loss = 0\n",
    "    for idx, (images, rotation_labels, digit_labels) in tqdm(enumerate(loader)):\n",
    "        images = images.to(device)\n",
    "        rotation_labels = rotation_labels.to(device)\n",
    "        digit_labels = digit_labels.to(device)\n",
    "\n",
    "        optimizer.zero_grad()\n",
    "        logits = reference_model(images) # (bs, num_digit_classes)\n",
    "        loss = cross_entropy(logits, digit_labels)\n",
    "        loss.backward()\n",
    "        optimizer.step()\n",
    "        epoch_loss += loss.item()\n",
    "    print(f'Train epoch {epoch} loss: {epoch_loss:.4f}')\n",
    "\n",
    "def do_val_epoch(model, loader, epoch):\n",
    "    model.eval()\n",
    "    epoch_loss = 0\n",
    "    for idx, (images, rotation_labels, digit_labels) in tqdm(enumerate(loader)):\n",
    "        images = images.to(device)\n",
    "        rotation_labels = rotation_labels.to(device)\n",
    "        digit_labels = digit_labels.to(device)\n",
    "\n",
    "        logits = reference_model(images) # (bs, num_digit_classes)\n",
    "        loss = cross_entropy(logits, digit_labels)\n",
    "        epoch_loss += loss.item()\n",
    "    print(f'Val epoch {epoch} loss: {epoch_loss:.4f}') "
   ]
  },
  {
   "cell_type": "code",
   "execution_count": null,
   "id": "9f1bb9b2-ea38-4d37-b6fe-6f566c8d8c1f",
   "metadata": {},
   "outputs": [],
   "source": [
    "# Training loop\n",
    "num_epochs = 2\n",
    "lr = 0.005\n",
    "optimizer = torch.optim.Adam(reference_model.parameters(), lr=lr)\n",
    "\n",
    "for epoch in range(num_epochs):\n",
    "    do_train_epoch(reference_model, train_loader, optimizer, epoch)\n",
    "    do_val_epoch(referenc_model, val_loader, epoch)"
   ]
  }
 ],
 "metadata": {
  "kernelspec": {
   "display_name": "Python 3 (ipykernel)",
   "language": "python",
   "name": "python3"
  },
  "language_info": {
   "codemirror_mode": {
    "name": "ipython",
    "version": 3
   },
   "file_extension": ".py",
   "mimetype": "text/x-python",
   "name": "python",
   "nbconvert_exporter": "python",
   "pygments_lexer": "ipython3",
   "version": "3.9.20"
  }
 },
 "nbformat": 4,
 "nbformat_minor": 5
}
