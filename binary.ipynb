{
 "cells": [
  {
   "cell_type": "code",
   "execution_count": null,
   "id": "1d7f9026-1fcc-485f-b40a-c97b3250d949",
   "metadata": {},
   "outputs": [],
   "source": [
    "%load_ext autoreload\n",
    "%autoreload 2"
   ]
  },
  {
   "cell_type": "code",
   "execution_count": null,
   "id": "c1173fca-8ba4-4a4e-be03-566c0d7a2f45",
   "metadata": {},
   "outputs": [],
   "source": [
    "import torch\n",
    "import torch.nn as nn\n",
    "\n",
    "from src.utils import MLP\n",
    "from src.binary_tree import RandomBinaryTreeRouter, BinaryTreeGoE\n",
    "\n",
    "device = torch.device('cuda' if torch.cuda.is_available() else 'cpu')"
   ]
  },
  {
   "cell_type": "code",
   "execution_count": null,
   "id": "efc5d689-b7a6-437c-a875-887ea6aabb4c",
   "metadata": {},
   "outputs": [],
   "source": [
    "# Create per-layer modules\n",
    "class LayerZeroMLP(MLP):\n",
    "    def __init__(self):\n",
    "        super().__init__(unit_dims=[5,30])\n",
    "\n",
    "class LayerOneMLP(MLP):\n",
    "    def __init__(self):\n",
    "        super().__init__(unit_dims=[30,30])\n",
    "\n",
    "class LayerTwoMLP(MLP):\n",
    "    def __init__(self):\n",
    "        super().__init__(unit_dims=[30,5])\n",
    "\n",
    "# Initialize GoE\n",
    "depth = 3\n",
    "random_router = RandomBinaryTreeRouter(depth=depth)\n",
    "goe = BinaryTreeGoE(\n",
    "    modules_by_depth = [LayerZeroMLP, LayerOneMLP, LayerTwoMLP],\n",
    "    router = random_router\n",
    ")"
   ]
  },
  {
   "cell_type": "code",
   "execution_count": null,
   "id": "fe78c8f9-f45a-4200-907c-33834df6f79e",
   "metadata": {},
   "outputs": [],
   "source": [
    "# Check that sub-modules are correctly registered\n",
    "for name, param in goe.named_parameters():\n",
    "    print(name)"
   ]
  }
 ],
 "metadata": {
  "kernelspec": {
   "display_name": "Python 3 (ipykernel)",
   "language": "python",
   "name": "python3"
  },
  "language_info": {
   "codemirror_mode": {
    "name": "ipython",
    "version": 3
   },
   "file_extension": ".py",
   "mimetype": "text/x-python",
   "name": "python",
   "nbconvert_exporter": "python",
   "pygments_lexer": "ipython3",
   "version": "3.9.20"
  }
 },
 "nbformat": 4,
 "nbformat_minor": 5
}
